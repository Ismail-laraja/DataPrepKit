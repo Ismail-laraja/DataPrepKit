{
  "nbformat": 4,
  "nbformat_minor": 0,
  "metadata": {
    "colab": {
      "provenance": [],
      "authorship_tag": "ABX9TyPOEUX4BA+kkYAldic+YvLy",
      "include_colab_link": true
    },
    "kernelspec": {
      "name": "python3",
      "display_name": "Python 3"
    },
    "language_info": {
      "name": "python"
    }
  },
  "cells": [
    {
      "cell_type": "markdown",
      "metadata": {
        "id": "view-in-github",
        "colab_type": "text"
      },
      "source": [
        "<a href=\"https://colab.research.google.com/github/Ismail-laraja/DataPrepKit/blob/main/DataPrekit.ipynb\" target=\"_parent\"><img src=\"https://colab.research.google.com/assets/colab-badge.svg\" alt=\"Open In Colab\"/></a>"
      ]
    },
    {
      "cell_type": "code",
      "execution_count": null,
      "metadata": {
        "id": "Kkb2IcOu9d8u"
      },
      "outputs": [],
      "source": [
        "import pandas as pd\n",
        "from sklearn.preprocessing import OneHotEncoder, LabelEncoder\n",
        "from category_encoders import TargetEncoder\n",
        "\n",
        "def read_csv():\n",
        "    try:\n",
        "        df = pd.read_csv(r\"C:\\Users\\IsmailTaha\\Desktop\\archive(2).fresher_jobs.csv\")\n",
        "        return df\n",
        "    except Exception as e:\n",
        "        print(\"Error reading CSV file:\", e)"
      ]
    },
    {
      "cell_type": "code",
      "source": [
        "def compute_summary_statistics(data):\n",
        "    summary_stats = {}\n",
        "\n",
        "    # Check if the data contains numerical columns\n",
        "    numerical_cols = df.select_dtypes(include=[np.number]).columns\n",
        "    if len(numerical_cols) > 0:\n",
        "        numerical_summary = df.describe()\n",
        "        summary_stats['numerical'] = numerical_summary.to_dict()\n",
        "\n",
        "    # Check if the data contains categorical columns\n",
        "    categorical_cols = df.select_dtypes(include=[np.object]).columns\n",
        "    if len(categorical_cols) > 0:\n",
        "        categorical_summary = {}\n",
        "        for col in categorical_cols:\n",
        "            categorical_summary[col] = {\n",
        "                'unique_values': df[col].unique().tolist(),\n",
        "                'value_counts': df[col].value_counts().to_dict()\n",
        "            }\n",
        "        summary_stats['categorical'] = categorical_summary\n",
        "\n",
        "    return summary_stats\n",
        "\n",
        "\n",
        "\n",
        "def handle_missing_values():\n",
        "\n",
        "    if strategy == 'mean':\n",
        "        df = df.fillna(df.mean(axis=axis))\n",
        "    elif strategy == 'median':\n",
        "        df = df.fillna(df.median(axis=axis))\n",
        "    elif strategy == 'ffill':\n",
        "        df = df.ffill(axis=axis)\n",
        "    elif strategy == 'bfill':\n",
        "        df = df.bfill(axis=axis)\n",
        "    elif strategy == 'drop':\n",
        "        df = df.dropna(axis=axis)\n",
        "    elif strategy == 'default':\n",
        "        # Use default strategy based on data types\n",
        "        for col in df.columns:\n",
        "            if df[col].dtype == 'object':\n",
        "                df[col] = df[col].fillna(df[col].mode().iloc[0])\n",
        "            else:\n",
        "                df[col] = df[col].fillna(df[col].median())\n",
        "    else:\n",
        "        print(\"Invalid strategy specified. Please choose from 'mean', 'median', 'ffill', 'bfill', 'drop', or 'default'.\")\n",
        "\n",
        "    return df\n"
      ],
      "metadata": {
        "id": "Q-k_Q6JcEv1Q"
      },
      "execution_count": null,
      "outputs": []
    },
    {
      "cell_type": "code",
      "source": [
        "pip install category_encoders\n"
      ],
      "metadata": {
        "colab": {
          "base_uri": "https://localhost:8080/"
        },
        "id": "F3fAKKTtFqqu",
        "outputId": "b4bc9180-1572-4c84-ff69-249231479d80"
      },
      "execution_count": null,
      "outputs": [
        {
          "output_type": "stream",
          "name": "stdout",
          "text": [
            "Requirement already satisfied: category_encoders in /usr/local/lib/python3.10/dist-packages (2.6.3)\n",
            "Requirement already satisfied: numpy>=1.14.0 in /usr/local/lib/python3.10/dist-packages (from category_encoders) (1.25.2)\n",
            "Requirement already satisfied: scikit-learn>=0.20.0 in /usr/local/lib/python3.10/dist-packages (from category_encoders) (1.2.2)\n",
            "Requirement already satisfied: scipy>=1.0.0 in /usr/local/lib/python3.10/dist-packages (from category_encoders) (1.11.4)\n",
            "Requirement already satisfied: statsmodels>=0.9.0 in /usr/local/lib/python3.10/dist-packages (from category_encoders) (0.14.2)\n",
            "Requirement already satisfied: pandas>=1.0.5 in /usr/local/lib/python3.10/dist-packages (from category_encoders) (2.0.3)\n",
            "Requirement already satisfied: patsy>=0.5.1 in /usr/local/lib/python3.10/dist-packages (from category_encoders) (0.5.6)\n",
            "Requirement already satisfied: python-dateutil>=2.8.2 in /usr/local/lib/python3.10/dist-packages (from pandas>=1.0.5->category_encoders) (2.8.2)\n",
            "Requirement already satisfied: pytz>=2020.1 in /usr/local/lib/python3.10/dist-packages (from pandas>=1.0.5->category_encoders) (2023.4)\n",
            "Requirement already satisfied: tzdata>=2022.1 in /usr/local/lib/python3.10/dist-packages (from pandas>=1.0.5->category_encoders) (2024.1)\n",
            "Requirement already satisfied: six in /usr/local/lib/python3.10/dist-packages (from patsy>=0.5.1->category_encoders) (1.16.0)\n",
            "Requirement already satisfied: joblib>=1.1.1 in /usr/local/lib/python3.10/dist-packages (from scikit-learn>=0.20.0->category_encoders) (1.4.0)\n",
            "Requirement already satisfied: threadpoolctl>=2.0.0 in /usr/local/lib/python3.10/dist-packages (from scikit-learn>=0.20.0->category_encoders) (3.4.0)\n",
            "Requirement already satisfied: packaging>=21.3 in /usr/local/lib/python3.10/dist-packages (from statsmodels>=0.9.0->category_encoders) (24.0)\n"
          ]
        }
      ]
    },
    {
      "cell_type": "code",
      "source": [
        "import pandas as pd\n",
        "from sklearn.preprocessing import OneHotEncoder, LabelEncoder\n",
        "from category_encoders import TargetEncoder\n",
        "\n",
        "def one_hot_encoding(df, columns):\n",
        "\n",
        "\n",
        "    encoded_data = pd.get_dummies(df, columns=columns)\n",
        "    return encoded_data\n",
        "\n",
        "def label_encoding(df, columns):\n",
        "\n",
        "    encoded_data = df.copy()\n",
        "    label_encoder = LabelEncoder()\n",
        "    for col in columns:\n",
        "        encoded_data[col] = label_encoder.fit_transform(encoded_data[col])\n",
        "    return encoded_data\n",
        "\n",
        "def target_encoding(data, target_column, columns):\n",
        "\n",
        "    encoded_data = df.copy()\n",
        "    target_encoder = TargetEncoder(cols=columns)\n",
        "    encoded_data[columns] = target_encoder.fit_transform(encoded_data[columns], encoded_data[target_column])\n",
        "    return encoded_data\n"
      ],
      "metadata": {
        "id": "oBJoZ4toFX8Y"
      },
      "execution_count": null,
      "outputs": []
    },
    {
      "cell_type": "code",
      "source": [],
      "metadata": {
        "id": "SANQ2CuyGEH_"
      },
      "execution_count": null,
      "outputs": []
    }
  ]
}